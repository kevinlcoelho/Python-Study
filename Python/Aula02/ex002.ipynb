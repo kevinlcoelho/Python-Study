{
 "cells": [
  {
   "cell_type": "code",
   "execution_count": 2,
   "metadata": {},
   "outputs": [
    {
     "name": "stdout",
     "output_type": "stream",
     "text": [
      "Lógica de Programação e Algoritimos\n"
     ]
    }
   ],
   "source": [
    "s1 = 'Lógica de Programação'\n",
    "s1 = s1 + ' e Algoritimos'\n",
    "print(s1)"
   ]
  },
  {
   "cell_type": "code",
   "execution_count": 7,
   "metadata": {},
   "outputs": [
    {
     "name": "stdout",
     "output_type": "stream",
     "text": [
      "KraiKraiKraiKraiKraiKraiKraiKraiKraiKraiKraiKraiKraiKraiKraiKraiKraiKraiKraiKraiKraiKraiKraiKraiKraiKraiKraiKraiKraiKraiKraiKraiKraiKraiKraiKraiKraiKraiKraiKraiKraiKraiKraiKraiKraiKraiKraiKraiKraiKraiKraiKraiKraiKraiKraiKraiKraiKraiKraiKraiKraiKraiKraiKraiKraiKraiKraiKraiKraiKraiKraiKraiKraiKraiKraiKraiKraiKraiKraiKraiKraiKraiKraiKraiKraiKraiKraiKraiKraiKraiKraiKraiKraiKraiKraiKraiKraiKraiKraiKraiKraiKraiKraiKraiKraiKraiKraiKraiKraiKraiKraiKraiKraiKraiKraiKraiKraiKraiKraiKraiKraiKraiKraiKraiKraiKraiKraiKraiKraiKraiKraiKraiKraiKraiKraiKraiKraiKraiKraiKraiKraiKraiKraiKraiKraiKraiKraiKraiKraiKraiKraiKraiKraiKraiKraiKraiKraiKraiKraiKraiKraiKraiKraiKraiKraiKraiKraiKraiKraiKraiKraiKraiKraiKraiKraiKraiKraiKraiKraiKraiKraiKraiKraiKraiKraiKraiKraiKraiKraiKraiKraiKraiKraiKraiKraiKraiKraiKraiKraiKraiKraiKraiKraiKraiKraiKraiKraiKraiKraiKraiKraiKraiKraiKraiKraiKraiKraiKraiKraiKraiKraiKraiKraiKraiKraiKraiKraiKraiKraiKraiKraiKraiKraiKraiKraiKraiKraiKraiKraiKraiKraiKraiKraiKraiKraiKraiKraiKraiKraiKraiKraiKraiKraiKraiKraiKraiKraiKraiKraiKraiKraiKraiKraiKraiKraiKraiKraiKraiKraiKraiKraiKraiKraiKraiKraiKraiKraiKraiKraiKraiKraiKraiKraiKraiKraiKraiKraiKraiKraiKraiKraiKraiKraiKraiKraiKraiKraiKraiKraiKraiKraiKraiKraiKraiKraiKraiKraiKraiKraiKraiKraiKraiKraiKraiKraiKraiKraiKraiKraiKraiKraiKraiKraiKraiKraiKraiKraiKraiKraiKraiKraiKraiKraiKraiKraiKraiKraiKraiKraiKraiKraiKraiKraiKraiKraiKraiKraiKraiKraiKraiKraiKraiKraiKraiKraiKraiKraiKraiKraiKraiKraiKraiKraiKraiKraiKraiKraiKraiKraiKraiKraiKraiKraiKraiKraiKraiKraiKraiKraiKraiKraiKraiKraiKraiKraiKraiKraiKraiKraiKraiKraiKraiKraiKraiKraiKraiKraiKraiKraiKraiKraiKraiKraiKraiKraiKraiKraiKraiKraiKraiKraiKraiKraiKraiKraiKraiKraiKraiKraiKraiKraiKraiKraiKraiKraiKraiKraiKraiKraiKraiKraiKraiKraiKraiKraiKraiKraiKraiKraiKraiKraiKraiKraiKraiKraiKraiKraiKraiKraiKraiKraiKraiKraiKraiKraiKraiKraiKraiKraiKraiKraiKraiKraiKraiKraiKraiKraiKraiKraiKraiKraiKraiKraiKraiKraiKraiKraiKraiKraiKraiKraiKraiKraiKraiKraiKraiKraiKraiKraiKraiKraiKraiKraiKraiKraiKraiKraiKraiKraiKraiKraiKraiKraiKraiKraiKraiKraiKraiKraiKraiKraiKraiKraiKraiKraiKraiKraiKraiKraiKraiKraiKraiKraiKraiKraiKraiKraiKraiKraiKraiKraiKraiKraiKraiKraiKraiKraiKraiKraiKraiKraiKraiKraiKraiKraiKraiKraiKraiKraiKraiKraiKraiKraiKraiKraiKraiKraiKraiKraiKraiKraiKraiKraiKraiKraiKraiKraiKraiKraiKraiKraiKraiKraiKraiKraiKraiKraiKraiKraiKraiKraiKraiKraiKraiKraiKraiKraiKraiKraiKraiKraiKraiKraiKraiKraiKraiKraiKraiKraiKraiKraiKraiKraiKraiKraiKraiKraiKraiKraiKraiKraiKraiKraiKraiKraiKraiKraiKraiKraiKraiKraiKraiKraiKraiKraiKraiKraiKraiKraiKraiKraiKraiKraiKraiKraiKraiKraiKraiKraiKraiKraiKraiKraiKraiKraiKraiKraiKraiKraiKraiKraiKraiKraiKraiKraiKraiKraiKraiKraiKraiKraiKraiKraiKraiKraiKraiKraiKraiKraiKraiKraiKraiKraiKraiKraiKraiKraiKraiKraiKraiKraiKraiKraiKraiKraiKraiKraiKraiKraiKraiKraiKraiKraiKraiKraiKraiKraiKraiKraiKraiKraiKraiKraiKraiKraiKraiKraiKraiKraiKraiKraiKraiKraiKraiKraiKraiKraiKraiKraiKraiKraiKraiKraiKraiKraiKraiKraiKraiKraiKraiKraiKraiKraiKraiKraiKraiKraiKraiKraiKraiKraiKraiKraiKraiKraiKraiKraiKraiKraiKraiKraiKraiKraiKraiKraiKraiKraiKraiKraiKraiKraiKraiKraiKraiKraiKraiKraiKraiKraiKraiKraiKraiKraiKraiKraiKraiKraiKraiKraiKraiKraiKraiKraiKraiKraiKraiKraiKraiKraiKraiKraiKraiKraiKraiKraiKraiKraiKraiKraiKraiKraiKraiKraiKraiKraiKraiKraiKraiKraiKraiKraiKraiKraiKraiKraiKraiKraiKraiKraiKraiKraiKraiKraiKraiKraiKraiKraiKraiKraiKraiKraiKraiKraiKraiKraiKraiKraiKraiKraiKraiKraiKraiKraiKraiKraiKraiKraiKraiKraiKraiKraiKraiKraiKraiKraiKraiKraiKraiKraiKraiKraiKraiKraiKraiKraiKraiKraiKraiKraiKraiKraiKraiKraiKraiKraiKraiKraiKraiKraiKraiKraiKraiKraiKraiKraiKraiKraiKraiKraiKraiKraiKraiKraiKraiKraiKraiKraiKraiKraiKraiKraiKraiKraiKraiKraiKraiKraiKraiKraiKraiKraiKraiKraiKraiKraiKraiKraiKraiKraiKraiKraiKraiKraiKraiKraiKraiKraiKraiKraiKraiKraiKraiKraiKraiKraiKraiKraiKraiKraiKraiKraiKraiKraiKraiKraiKraiKraiKraiKraiKraiKraiKraiKraiKraiKraiKraiKraiKraiKraiKraiKraiKraiKraiKraiKraiKraiKraiKraiKraiKraiKraiKraiKraiKraiKraiKraiKraiKraiKraiKraiKraiKraiKraiKraiKraiKraiKraiKraiKraiKraiKraiKraiKraiKraiKraiKraiKraiKraiKraiKrai\n"
     ]
    }
   ],
   "source": [
    "s1 = 'Krai' * 1000\n",
    "print(s1)"
   ]
  },
  {
   "cell_type": "code",
   "execution_count": 14,
   "metadata": {},
   "outputs": [
    {
     "name": "stdout",
     "output_type": "stream",
     "text": [
      "Voce acertou apenas 8.5 na disciplina Jorgin\n"
     ]
    }
   ],
   "source": [
    "nota = 8.5\n",
    "disciplina = 'Jorgin'\n",
    "s1 = 'Voce acertou apenas %.1f na disciplina %s' % (nota,disciplina)\n",
    "print(s1)"
   ]
  },
  {
   "cell_type": "code",
   "execution_count": 21,
   "metadata": {},
   "outputs": [
    {
     "name": "stdout",
     "output_type": "stream",
     "text": [
      "Voce acertou apenas 2.3 na disciplina de Alfredo\n"
     ]
    }
   ],
   "source": [
    "nota = 2.3\n",
    "disciplina = 'Alfredo'\n",
    "s1 = 'Voce acertou apenas {} na disciplina de {}' .format(nota,disciplina)\n",
    "print(s1)"
   ]
  },
  {
   "cell_type": "code",
   "execution_count": 27,
   "metadata": {},
   "outputs": [
    {
     "name": "stdout",
     "output_type": "stream",
     "text": [
      "Voce\n"
     ]
    }
   ],
   "source": [
    "print(s1[0:4])"
   ]
  },
  {
   "cell_type": "code",
   "execution_count": 29,
   "metadata": {},
   "outputs": [
    {
     "name": "stdout",
     "output_type": "stream",
     "text": [
      "Voce\n"
     ]
    }
   ],
   "source": [
    "print(s1[:4])"
   ]
  },
  {
   "cell_type": "code",
   "execution_count": 31,
   "metadata": {},
   "outputs": [
    {
     "name": "stdout",
     "output_type": "stream",
     "text": [
      "Voce\n"
     ]
    }
   ],
   "source": [
    "print(s1[0:4])"
   ]
  },
  {
   "cell_type": "code",
   "execution_count": 32,
   "metadata": {},
   "outputs": [
    {
     "name": "stdout",
     "output_type": "stream",
     "text": [
      "48\n"
     ]
    }
   ],
   "source": [
    "aprint(len(s1))"
   ]
  }
 ],
 "metadata": {
  "kernelspec": {
   "display_name": "Python 3.10.2 64-bit",
   "language": "python",
   "name": "python3"
  },
  "language_info": {
   "codemirror_mode": {
    "name": "ipython",
    "version": 3
   },
   "file_extension": ".py",
   "mimetype": "text/x-python",
   "name": "python",
   "nbconvert_exporter": "python",
   "pygments_lexer": "ipython3",
   "version": "3.10.2"
  },
  "orig_nbformat": 4,
  "vscode": {
   "interpreter": {
    "hash": "369f2c481f4da34e4445cda3fffd2e751bd1c4d706f27375911949ba6bb62e1c"
   }
  }
 },
 "nbformat": 4,
 "nbformat_minor": 2
}
