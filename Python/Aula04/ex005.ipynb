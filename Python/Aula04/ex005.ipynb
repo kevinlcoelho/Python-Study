{
 "cells": [
  {
   "cell_type": "code",
   "execution_count": null,
   "metadata": {},
   "outputs": [],
   "source": [
    "for i in range(3, 13, 1):\n",
    "    print(i)\n",
    "num = 3\n",
    "while num < 13:\n",
    "    print(num)\n",
    "    num += 1"
   ]
  },
  {
   "cell_type": "code",
   "execution_count": null,
   "metadata": {},
   "outputs": [],
   "source": [
    "for i in range(1, 9, 2):\n",
    "    print(i)\n",
    "num = 1\n",
    "while num < 9:\n",
    "    print(num)\n",
    "    num += 2\n"
   ]
  },
  {
   "cell_type": "code",
   "execution_count": null,
   "metadata": {},
   "outputs": [],
   "source": [
    "print('Qual operação deseja realizar?')\n",
    "print('adição (+)')\n",
    "print('subtração (-)')\n",
    "print('multiplicação (*)')\n",
    "print('divisão (/)')\n",
    "operacao = input('Digite aqui:')\n",
    "if operacao == operacao == '+' or operacao == '-' or operacao == '*' or operacao == '/':\n",
    "    n1 = float(input('Digite o primeiro numero que deseja calcular:'))\n",
    "    n2 = float(input('Digite o segundo numero que deseja calcular:'))\n",
    "while (operacao != 's'):\n",
    "    if operacao == '+':\n",
    "        total = n1 + n2\n",
    "        print('Resultado = {} + {} = {}' .format(n1,n2,total))\n",
    "    elif operacao == '-':\n",
    "        total = n1 - n2\n",
    "        print('Resultado = {} - {} = {}' .format(n1,n2,total))\n",
    "    elif operacao == '*':\n",
    "        total = n1 * n2\n",
    "        print('Resultado = {} * {} = {}' .format(n1,n2,total))\n",
    "    elif operacao == '/':\n",
    "        total = n1 / n2\n",
    "        print('Resultado = {} / {} = {}' .format(n1,n2,total))\n",
    "    else:\n",
    "        print('Algo foi digitado incorretamente!')\n",
    "    operacao = input('Digite aqui:')\n",
    "    if operacao == operacao == '+' or operacao == '-' or operacao == '*' or operacao == '/':\n",
    "        n1 = float(input('Digite o primeiro numero que deseja calcular:'))\n",
    "        n2 = float(input('Digite o segundo numero que deseja calcular:'))\n",
    "print('Encerrando o programa...')\n"
   ]
  },
  {
   "cell_type": "code",
   "execution_count": 7,
   "metadata": {},
   "outputs": [
    {
     "name": "stdout",
     "output_type": "stream",
     "text": [
      "Qual operação deseja realizar?\n",
      "adição (+)\n",
      "subtração (-)\n",
      "multiplicação (*)\n",
      "divisão (/)\n",
      "Encerrando o programa...\n"
     ]
    }
   ],
   "source": [
    "print('Qual operação deseja realizar?')\n",
    "print('adição (+)')\n",
    "print('subtração (-)')\n",
    "print('multiplicação (*)')\n",
    "print('divisão (/)')\n",
    "while True:\n",
    "    operacao = input('Digite aqui:')\n",
    "    if operacao == operacao == '+' or operacao == '-' or operacao == '*' or operacao == '/':\n",
    "        n1 = float(input('Digite o primeiro numero que deseja calcular:'))\n",
    "        n2 = float(input('Digite o segundo numero que deseja calcular:'))\n",
    "    if operacao == '+':\n",
    "        total = n1 + n2\n",
    "        print('Resultado = {} + {} = {}' .format(n1,n2,total))\n",
    "    elif operacao == '-':\n",
    "        total = n1 - n2\n",
    "        print('Resultado = {} - {} = {}' .format(n1,n2,total))\n",
    "    elif operacao == '*':\n",
    "        total = n1 * n2\n",
    "        print('Resultado = {} * {} = {}' .format(n1,n2,total))\n",
    "    elif operacao == '/':\n",
    "        total = n1 / n2\n",
    "        print('Resultado = {} / {} = {}' .format(n1,n2,total))\n",
    "    elif (operacao == 's'):\n",
    "        break\n",
    "    else:\n",
    "        print('Algo foi digitado incorretamente!')\n",
    "print('Encerrando o programa...')"
   ]
  },
  {
   "cell_type": "code",
   "execution_count": 22,
   "metadata": {},
   "outputs": [
    {
     "name": "stdout",
     "output_type": "stream",
     "text": [
      "Você esta sacando R$186\n",
      "Cédulas de 100: 1\n",
      "Cédulas de 50: 1\n",
      "Cédulas de 20: 1\n",
      "Cédulas de 10: 1\n",
      "Cédulas de 5: 1\n",
      "Cédulas de 1: 1\n"
     ]
    }
   ],
   "source": [
    "valor = int(input('Digite quanto irá sacar R$:'))\n",
    "print('Você esta sacando R${}' .format(valor))\n",
    "while True:\n",
    "    if valor >= 100:\n",
    "        cedulas100 = valor // 100\n",
    "        valor = valor - cedulas100 * 100\n",
    "        print('Cédulas de 100: {}' .format(cedulas100))\n",
    "        if not valor:\n",
    "            break\n",
    "    if valor >= 50:\n",
    "        cedulas50 = valor // 50\n",
    "        valor = valor - cedulas50 * 50\n",
    "        print('Cédulas de 50: {}' .format(cedulas50))\n",
    "        if not valor:\n",
    "            break\n",
    "    if valor >= 20:\n",
    "        cedulas20 = valor // 20\n",
    "        valor = valor - cedulas20 * 20\n",
    "        print('Cédulas de 20: {}' .format(cedulas20))\n",
    "        if not valor:\n",
    "            break\n",
    "    if valor >= 10:\n",
    "        cedulas10 = valor // 10\n",
    "        valor = valor - cedulas10 * 10\n",
    "        print('Cédulas de 10: {}' .format(cedulas10))\n",
    "        if not valor:\n",
    "            break\n",
    "    if valor >= 5:\n",
    "        cedulas5 = valor // 5\n",
    "        valor = valor - cedulas5 * 5\n",
    "        print('Cédulas de 5: {}' .format(cedulas5))\n",
    "        if not valor:\n",
    "            break\n",
    "    if valor:\n",
    "        cedulas1 = valor\n",
    "        print('Cédulas de 1: {}' .format(cedulas1))\n",
    "        break\n"
   ]
  },
  {
   "cell_type": "code",
   "execution_count": 34,
   "metadata": {},
   "outputs": [
    {
     "name": "stdout",
     "output_type": "stream",
     "text": [
      "Total de compras: 1\n",
      "Dinheiro arrecadado R$0.\n",
      "Total de compras: 2\n",
      "Dinheiro arrecadado R$15.\n",
      "Total de compras: 3\n",
      "Dinheiro arrecadado R$45.\n",
      "Total de compras: 4\n",
      "Dinheiro arrecadado R$75.\n",
      "Total de compras: 5\n",
      "Dinheiro arrecadado R$105.\n",
      "Total de compras: 6\n",
      "Dinheiro arrecadado R$120.\n",
      "Total de compras: 7\n",
      "Dinheiro arrecadado R$135.\n",
      "Total de compras: 8\n",
      "Dinheiro arrecadado R$135.\n",
      "Total de compras: 9\n",
      "Dinheiro arrecadado R$165.\n",
      "Total de compras: 10\n",
      "Dinheiro arrecadado R$195.\n",
      "Total de compras: 10\n",
      "Dinheiro arrecadado R$195.\n",
      "Media de idade: 9.7\n"
     ]
    }
   ],
   "source": [
    "qtd = 0\n",
    "valor = 0\n",
    "idadetotal = 0\n",
    "while True:\n",
    "    idade = input('Bem vindos ao cinema minha pica sua saúde, digite sua idade:')\n",
    "    if idade == 'sair':\n",
    "        break\n",
    "    idade = int(idade)\n",
    "    qtd += 1\n",
    "    if idade < 3:\n",
    "        dinheiro = 0\n",
    "    else:\n",
    "        if idade > 12:\n",
    "            dinheiro = 30\n",
    "        else:\n",
    "            dinheiro = 15\n",
    "    idadetotal += idade\n",
    "    valor += dinheiro\n",
    "    print('Total de compras: {}'.format(qtd))\n",
    "    print('Dinheiro arrecadado R${}.'.format(valor))\n",
    "idademedia = idadetotal/qtd\n",
    "print('Total de compras: {}'.format(qtd))\n",
    "print('Dinheiro arrecadado R${}.'.format(valor))\n",
    "print('Media de idade: {}'.format(idademedia))\n"
   ]
  }
 ],
 "metadata": {
  "kernelspec": {
   "display_name": "Python 3.10.2 64-bit",
   "language": "python",
   "name": "python3"
  },
  "language_info": {
   "codemirror_mode": {
    "name": "ipython",
    "version": 3
   },
   "file_extension": ".py",
   "mimetype": "text/x-python",
   "name": "python",
   "nbconvert_exporter": "python",
   "pygments_lexer": "ipython3",
   "version": "3.10.2"
  },
  "orig_nbformat": 4,
  "vscode": {
   "interpreter": {
    "hash": "369f2c481f4da34e4445cda3fffd2e751bd1c4d706f27375911949ba6bb62e1c"
   }
  }
 },
 "nbformat": 4,
 "nbformat_minor": 2
}
