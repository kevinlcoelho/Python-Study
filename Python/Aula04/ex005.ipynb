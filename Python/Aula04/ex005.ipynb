{
 "cells": [
  {
   "cell_type": "code",
   "execution_count": null,
   "metadata": {},
   "outputs": [],
   "source": [
    "for i in range(3, 13, 1):\n",
    "    print(i)\n",
    "num = 3\n",
    "while num < 13:\n",
    "    print(num)\n",
    "    num += 1"
   ]
  },
  {
   "cell_type": "code",
   "execution_count": null,
   "metadata": {},
   "outputs": [],
   "source": [
    "for i in range(1, 9, 2):\n",
    "    print(i)\n",
    "num = 1\n",
    "while num < 9:\n",
    "    print(num)\n",
    "    num += 2\n"
   ]
  },
  {
   "cell_type": "code",
   "execution_count": null,
   "metadata": {},
   "outputs": [],
   "source": [
    "print('Qual operação deseja realizar?')\n",
    "print('adição (+)')\n",
    "print('subtração (-)')\n",
    "print('multiplicação (*)')\n",
    "print('divisão (/)')\n",
    "operacao = input('Digite aqui:')\n",
    "if operacao == operacao == '+' or operacao == '-' or operacao == '*' or operacao == '/':\n",
    "    n1 = float(input('Digite o primeiro numero que deseja calcular:'))\n",
    "    n2 = float(input('Digite o segundo numero que deseja calcular:'))\n",
    "while (operacao != 's'):\n",
    "    if operacao == '+':\n",
    "        total = n1 + n2\n",
    "        print('Resultado = {} + {} = {}' .format(n1,n2,total))\n",
    "    elif operacao == '-':\n",
    "        total = n1 - n2\n",
    "        print('Resultado = {} - {} = {}' .format(n1,n2,total))\n",
    "    elif operacao == '*':\n",
    "        total = n1 * n2\n",
    "        print('Resultado = {} * {} = {}' .format(n1,n2,total))\n",
    "    elif operacao == '/':\n",
    "        total = n1 / n2\n",
    "        print('Resultado = {} / {} = {}' .format(n1,n2,total))\n",
    "    else:\n",
    "        print('Algo foi digitado incorretamente!')\n",
    "    operacao = input('Digite aqui:')\n",
    "    if operacao == operacao == '+' or operacao == '-' or operacao == '*' or operacao == '/':\n",
    "        n1 = float(input('Digite o primeiro numero que deseja calcular:'))\n",
    "        n2 = float(input('Digite o segundo numero que deseja calcular:'))\n",
    "print('Encerrando o programa...')\n"
   ]
  },
  {
   "cell_type": "code",
   "execution_count": 7,
   "metadata": {},
   "outputs": [
    {
     "name": "stdout",
     "output_type": "stream",
     "text": [
      "Qual operação deseja realizar?\n",
      "adição (+)\n",
      "subtração (-)\n",
      "multiplicação (*)\n",
      "divisão (/)\n",
      "Encerrando o programa...\n"
     ]
    }
   ],
   "source": [
    "print('Qual operação deseja realizar?')\n",
    "print('adição (+)')\n",
    "print('subtração (-)')\n",
    "print('multiplicação (*)')\n",
    "print('divisão (/)')\n",
    "while True:\n",
    "    operacao = input('Digite aqui:')\n",
    "    if operacao == operacao == '+' or operacao == '-' or operacao == '*' or operacao == '/':\n",
    "        n1 = float(input('Digite o primeiro numero que deseja calcular:'))\n",
    "        n2 = float(input('Digite o segundo numero que deseja calcular:'))\n",
    "    if operacao == '+':\n",
    "        total = n1 + n2\n",
    "        print('Resultado = {} + {} = {}' .format(n1,n2,total))\n",
    "    elif operacao == '-':\n",
    "        total = n1 - n2\n",
    "        print('Resultado = {} - {} = {}' .format(n1,n2,total))\n",
    "    elif operacao == '*':\n",
    "        total = n1 * n2\n",
    "        print('Resultado = {} * {} = {}' .format(n1,n2,total))\n",
    "    elif operacao == '/':\n",
    "        total = n1 / n2\n",
    "        print('Resultado = {} / {} = {}' .format(n1,n2,total))\n",
    "    elif (operacao == 's'):\n",
    "        break\n",
    "    else:\n",
    "        print('Algo foi digitado incorretamente!')\n",
    "print('Encerrando o programa...')"
   ]
  },
  {
   "cell_type": "code",
   "execution_count": null,
   "metadata": {},
   "outputs": [],
   "source": []
  }
 ],
 "metadata": {
  "kernelspec": {
   "display_name": "Python 3.10.2 64-bit",
   "language": "python",
   "name": "python3"
  },
  "language_info": {
   "codemirror_mode": {
    "name": "ipython",
    "version": 3
   },
   "file_extension": ".py",
   "mimetype": "text/x-python",
   "name": "python",
   "nbconvert_exporter": "python",
   "pygments_lexer": "ipython3",
   "version": "3.10.2"
  },
  "orig_nbformat": 4,
  "vscode": {
   "interpreter": {
    "hash": "369f2c481f4da34e4445cda3fffd2e751bd1c4d706f27375911949ba6bb62e1c"
   }
  }
 },
 "nbformat": 4,
 "nbformat_minor": 2
}
