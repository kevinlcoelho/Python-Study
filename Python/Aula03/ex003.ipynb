{
 "cells": [
  {
   "cell_type": "code",
   "execution_count": 26,
   "metadata": {},
   "outputs": [
    {
     "name": "stdout",
     "output_type": "stream",
     "text": [
      "Escolha a fruta que deseja comprar:\n",
      "1 - Maçã\n",
      "2 - Laranja\n",
      "3 - Banana\n",
      "Você escolheu banana e vai levar um total de 20 unidades, cada uma no valor de R$1.85, o total a pagar será no valor de R$37.0\n"
     ]
    }
   ],
   "source": [
    "print('Escolha a fruta que deseja comprar:')\n",
    "print('1 - Maçã')\n",
    "print('2 - Laranja')\n",
    "print('3 - Banana')\n",
    "maca = 2.3\n",
    "laranja = 3.6\n",
    "banana = 1.85\n",
    "fruta = int(input('Qual fruta gostaria? Digite o número correspondente:'))\n",
    "unidade = int(input('Digite a quantidade que irá comprar:'))\n",
    "if fruta == 1:\n",
    "    pagar = unidade*maca\n",
    "    print('Você escolheu maçã e vai levar um total de {} unidades, cada uma no valor de R${}, o total a pagar será no valor de R${}' .format(unidade,maca,pagar))\n",
    "elif fruta == 2:\n",
    "    pagar = unidade*laranja\n",
    "    print('Você escolheu laranja e vai levar um total de {} unidades, cada uma no valor de R${}, o total a pagar será no valor de R${}' .format(unidade,laranja,pagar))\n",
    "elif fruta == 3:\n",
    "    pagar = unidade*banana\n",
    "    print('Você escolheu banana e vai levar um total de {} unidades, cada uma no valor de R${}, o total a pagar será no valor de R${}' .format(unidade,banana,pagar))\n",
    "else:\n",
    "    print('Produto indisponivel')"
   ]
  },
  {
   "cell_type": "code",
   "execution_count": 34,
   "metadata": {},
   "outputs": [
    {
     "name": "stdout",
     "output_type": "stream",
     "text": [
      "laiza, diferente de você o Kevin não é imortal! :P\n"
     ]
    }
   ],
   "source": [
    "nome = input('Escreva um nome:')\n",
    "idade = int(input('Qual a idade?'))\n",
    "if nome == 'kevin':\n",
    "    print(nome)\n",
    "elif idade < 18:\n",
    "        print('{}, você não é o Kevin e é menor de idade!' .format(nome))\n",
    "elif idade > 100:\n",
    "    print('{}, diferente de você o Kevin não é imortal! :P' .format(nome))\n",
    "else:\n",
    "    print('{}, ta brisando parça?' .format(nome))"
   ]
  },
  {
   "cell_type": "code",
   "execution_count": 36,
   "metadata": {},
   "outputs": [
    {
     "name": "stdout",
     "output_type": "stream",
     "text": [
      "Voce faleceu\n"
     ]
    }
   ],
   "source": [
    "dano = 10\n",
    "escudo = 0\n",
    "if dano == 10 and escudo == 0:\n",
    "    print('Voce faleceu')"
   ]
  },
  {
   "cell_type": "code",
   "execution_count": 56,
   "metadata": {},
   "outputs": [
    {
     "name": "stdout",
     "output_type": "stream",
     "text": [
      "Qual operação deseja realizar?\n",
      "adição (+)\n",
      "subtração (-)\n",
      "multiplicação (*)\n",
      "divisão (/)\n",
      "Resultado = 2.0 * 2.0 = 4.0\n"
     ]
    }
   ],
   "source": [
    "print('Qual operação deseja realizar?')\n",
    "print('adição (+)')\n",
    "print('subtração (-)')\n",
    "print('multiplicação (*)')\n",
    "print('divisão (/)')\n",
    "operacao = input('Digite aqui:')\n",
    "n1 = float(input('Digite o primeiro numero que deseja calcular:'))\n",
    "n2 = float(input('Digite o segundo numero que deseja calcular:'))\n",
    "if operacao == 'adição' or operacao == '+' or operacao == 'adiçao' or operacao == 'adicao':\n",
    "    total = n1 + n2\n",
    "    print('Resultado = {} + {} = {}' .format(n1,n2,total))\n",
    "elif operacao == 'subtração' or operacao == '-' or operacao == 'subtraçao' or operacao == 'subtracao':\n",
    "    total = n1 - n2\n",
    "    print('Resultado = {} - {} = {}' .format(n1,n2,total))\n",
    "elif operacao == 'multiplicação' or operacao == '*' or operacao == 'multiplicaçao' or operacao == 'multiplicacao':\n",
    "    total = n1 * n2\n",
    "    print('Resultado = {} * {} = {}' .format(n1,n2,total))\n",
    "elif operacao == 'divisão' or operacao == '/' or operacao == 'divisao':\n",
    "    total = n1 / n2\n",
    "    print('Resultado = {} / {} = {}' .format(n1,n2,total))\n",
    "else:\n",
    "    print('Algo foi digitado incorretamente!')"
   ]
  },
  {
   "cell_type": "code",
   "execution_count": 57,
   "metadata": {},
   "outputs": [
    {
     "name": "stdout",
     "output_type": "stream",
     "text": [
      "Qual o tipo de instalação?\n",
      "R para residências\n",
      "I para insdústrias\n",
      "C para comécios\n",
      "\n",
      "Total a pagar: R$390.0\n"
     ]
    }
   ],
   "source": [
    "kwh = float(input('Digite a quantidade de kWh consumida:'))\n",
    "print('Qual o tipo de instalação?')\n",
    "print('R para residências')\n",
    "print('I para insdústrias')\n",
    "print('C para comécios')\n",
    "instalacao = input('Digite aqui:')\n",
    "if instalacao == 'R':\n",
    "    if kwh <= 500:\n",
    "        preco = 0.40\n",
    "        print()\n",
    "    else:\n",
    "        preco = 0.65\n",
    "        print()\n",
    "elif instalacao == 'I':\n",
    "    if kwh <= 1000:\n",
    "        preco = 0.55\n",
    "        print()\n",
    "    else:\n",
    "        preco = 0.60\n",
    "        print()\n",
    "elif instalacao == 'C':\n",
    "    if kwh <= 5000:\n",
    "        preco = 0.55\n",
    "        print()\n",
    "    else:\n",
    "        preco = 0.60\n",
    "        print()\n",
    "else:\n",
    "    print('Instalção inválida!')\n",
    "\n",
    "print('Total a pagar: R${}' .format(kwh * preco))\n"
   ]
  }
 ],
 "metadata": {
  "kernelspec": {
   "display_name": "Python 3.10.2 64-bit",
   "language": "python",
   "name": "python3"
  },
  "language_info": {
   "codemirror_mode": {
    "name": "ipython",
    "version": 3
   },
   "file_extension": ".py",
   "mimetype": "text/x-python",
   "name": "python",
   "nbconvert_exporter": "python",
   "pygments_lexer": "ipython3",
   "version": "3.10.2"
  },
  "orig_nbformat": 4,
  "vscode": {
   "interpreter": {
    "hash": "369f2c481f4da34e4445cda3fffd2e751bd1c4d706f27375911949ba6bb62e1c"
   }
  }
 },
 "nbformat": 4,
 "nbformat_minor": 2
}
