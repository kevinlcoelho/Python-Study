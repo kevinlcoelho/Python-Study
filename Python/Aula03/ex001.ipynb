{
 "cells": [
  {
   "cell_type": "code",
   "execution_count": 4,
   "metadata": {},
   "outputs": [
    {
     "name": "stdout",
     "output_type": "stream",
     "text": [
      "O primeiro é menor q o segundo <3\n"
     ]
    }
   ],
   "source": [
    "x = int(input('Digite um numero inteiro:'))\n",
    "y = int(input('Digite outro numero inteiro:'))\n",
    "if (x>y):\n",
    "    print('O primeiro é maior q o segundo <3') \n",
    "else:\n",
    "    print('O primeiro é menor q o segundo <3')"
   ]
  },
  {
   "cell_type": "code",
   "execution_count": 8,
   "metadata": {},
   "outputs": [
    {
     "name": "stdout",
     "output_type": "stream",
     "text": [
      "O numero 5 é impar\n"
     ]
    }
   ],
   "source": [
    "x = int(input('Digite um numero inteiro'))\n",
    "if (x % 2 == 0):\n",
    "    print('O numero {} é par' .format(x))\n",
    "else:\n",
    "    print('O numero {} é impar' .format(x))"
   ]
  },
  {
   "cell_type": "code",
   "execution_count": 16,
   "metadata": {},
   "outputs": [
    {
     "name": "stdout",
     "output_type": "stream",
     "text": [
      "Sim, eu sei hihi <3\n"
     ]
    }
   ],
   "source": [
    "x = input('Você ama a laiza?')\n",
    "if (x == 'Sim'):\n",
    "    print('Sim, eu sei hihi <3')\n",
    "else:\n",
    "    print('Ta mentindo moço, tem vergonha não?')"
   ]
  },
  {
   "cell_type": "code",
   "execution_count": 17,
   "metadata": {},
   "outputs": [
    {
     "name": "stdout",
     "output_type": "stream",
     "text": [
      "False\n"
     ]
    }
   ],
   "source": [
    "x = 10\n",
    "y = 1\n",
    "res = not x > y\n",
    "print(res)"
   ]
  },
  {
   "cell_type": "code",
   "execution_count": 2,
   "metadata": {},
   "outputs": [
    {
     "name": "stdout",
     "output_type": "stream",
     "text": [
      "False\n"
     ]
    }
   ],
   "source": [
    "x = 10\n",
    "y = 1\n",
    "z = 5.5\n",
    "res = x > y and z == y\n",
    "print(res)"
   ]
  },
  {
   "cell_type": "code",
   "execution_count": 5,
   "metadata": {},
   "outputs": [
    {
     "name": "stdout",
     "output_type": "stream",
     "text": [
      "O aluno foi aprovado com a nota 7.0 na primeira, 7.0 na segunda e 7.0 na terceira, com a média 7.0.\n"
     ]
    }
   ],
   "source": [
    "m1 = float(input('Digite a nota de primeira matéria:'))\n",
    "m2 = float(input('Digite a nota de segunda matéria:'))\n",
    "m3 = float(input('Digite a nota de terceira matéria:'))\n",
    "media = (m1+m2+m3)/3\n",
    "if m1 >= 7 and m2 >= 7 and m3 >= 7:\n",
    "    print('O aluno foi aprovado com a nota {} na primeira, {} na segunda e {} na terceira, com a média {}.' .format(m1,m2,m3,media))\n",
    "else:\n",
    "    print('O aluno foi reprovado com a nota {} na primeira, {} na segunda e {} na terceira, com a média {}.' .format(m1,m2,m3,media))"
   ]
  }
 ],
 "metadata": {
  "kernelspec": {
   "display_name": "Python 3.10.2 64-bit",
   "language": "python",
   "name": "python3"
  },
  "language_info": {
   "codemirror_mode": {
    "name": "ipython",
    "version": 3
   },
   "file_extension": ".py",
   "mimetype": "text/x-python",
   "name": "python",
   "nbconvert_exporter": "python",
   "pygments_lexer": "ipython3",
   "version": "3.10.2"
  },
  "orig_nbformat": 4,
  "vscode": {
   "interpreter": {
    "hash": "369f2c481f4da34e4445cda3fffd2e751bd1c4d706f27375911949ba6bb62e1c"
   }
  }
 },
 "nbformat": 4,
 "nbformat_minor": 2
}
