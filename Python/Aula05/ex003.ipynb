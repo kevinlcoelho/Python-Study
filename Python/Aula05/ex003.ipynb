{
 "cells": [
  {
   "cell_type": "code",
   "execution_count": 5,
   "metadata": {},
   "outputs": [],
   "source": [
    "def soma3(x = 0, y = 0, z = 0):\n",
    "    res = x + y + z\n",
    "    return res"
   ]
  },
  {
   "cell_type": "code",
   "execution_count": 8,
   "metadata": {},
   "outputs": [
    {
     "name": "stdout",
     "output_type": "stream",
     "text": [
      "6\n",
      "6\n"
     ]
    }
   ],
   "source": [
    "#Programa Principal\n",
    "retornado = soma3(1,2,3)\n",
    "print(retornado)\n",
    "\n",
    "#simplificado\n",
    "print(soma3(1,2,3))"
   ]
  },
  {
   "cell_type": "code",
   "execution_count": 11,
   "metadata": {},
   "outputs": [
    {
     "name": "stdout",
     "output_type": "stream",
     "text": [
      "Somas: 6, 1, 4 e 9\n"
     ]
    }
   ],
   "source": [
    "retornado1 = soma3(1)\n",
    "retornado2 = soma3(2,2)\n",
    "retornado3 = soma3(3,3,3)\n",
    "print('Somas: {}, {}, {} e {}' .format(retornado, retornado1, retornado2, retornado3))"
   ]
  },
  {
   "cell_type": "code",
   "execution_count": 14,
   "metadata": {},
   "outputs": [
    {
     "name": "stdout",
     "output_type": "stream",
     "text": [
      "Você digitou a String: Incrivelmente.\n",
      "Dado válido. Encerrando programa...\n"
     ]
    }
   ],
   "source": [
    "def valida_string(pergunta, min, max):\n",
    "    s1 = input(pergunta)\n",
    "    tam = len(s1)\n",
    "    while ((tam < min) or (tam > max)):\n",
    "        print('String inválida, tente novamente.')\n",
    "        s1 = input(pergunta)\n",
    "        tam = len(s1)\n",
    "    return s1\n",
    "\n",
    "x = valida_string('Digite uma String: ', 10, 30)\n",
    "print('Você digitou a String: {}.\\nDado válido. Encerrando programa...' .format(x))"
   ]
  },
  {
   "cell_type": "code",
   "execution_count": 16,
   "metadata": {},
   "outputs": [
    {
     "name": "stdout",
     "output_type": "stream",
     "text": [
      "+ ------------- +\n",
      "| Incrivelmente |\n",
      "+ ------------- +\n",
      "Você digitou a String: \n",
      "None.\n",
      "Dado válido. Encerrando programa...\n"
     ]
    }
   ],
   "source": [
    "def borda(s1):\n",
    "    tam = len(s1)\n",
    "    if tam:\n",
    "        print('+','-' * tam, '+')\n",
    "        print('|', s1, '|')\n",
    "        print('+','-' * tam, '+')\n",
    "\n",
    "def valida_string(pergunta, min, max):\n",
    "    s1 = input(pergunta)\n",
    "    tam = len(s1)\n",
    "    while ((tam < min) or (tam > max)):\n",
    "        print('String inválida, tente novamente.')\n",
    "        s1 = input(pergunta)\n",
    "        tam = len(s1)\n",
    "    return s1\n",
    "\n",
    "x = valida_string('Digite uma String: ', 10, 30)\n",
    "result = borda(x)\n",
    "print('Você digitou a String: \\n{}.\\nDado válido. Encerrando programa...' .format(result))"
   ]
  }
 ],
 "metadata": {
  "kernelspec": {
   "display_name": "Python 3.10.2 64-bit",
   "language": "python",
   "name": "python3"
  },
  "language_info": {
   "codemirror_mode": {
    "name": "ipython",
    "version": 3
   },
   "file_extension": ".py",
   "mimetype": "text/x-python",
   "name": "python",
   "nbconvert_exporter": "python",
   "pygments_lexer": "ipython3",
   "version": "3.10.2"
  },
  "orig_nbformat": 4,
  "vscode": {
   "interpreter": {
    "hash": "369f2c481f4da34e4445cda3fffd2e751bd1c4d706f27375911949ba6bb62e1c"
   }
  }
 },
 "nbformat": 4,
 "nbformat_minor": 2
}
