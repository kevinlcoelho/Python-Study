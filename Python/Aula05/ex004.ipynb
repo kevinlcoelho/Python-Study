{
 "cells": [
  {
   "cell_type": "code",
   "execution_count": 1,
   "metadata": {},
   "outputs": [
    {
     "name": "stdout",
     "output_type": "stream",
     "text": [
      "10 + 10 = 20\n",
      "10 + 12 = 22\n",
      "10 + 14 = 24\n",
      "10 + 16 = 26\n",
      "10 + 18 = 28\n",
      "11 + 10 = 21\n",
      "11 + 12 = 23\n",
      "11 + 14 = 25\n",
      "11 + 16 = 27\n",
      "11 + 18 = 29\n",
      "12 + 10 = 22\n",
      "12 + 12 = 24\n",
      "12 + 14 = 26\n",
      "12 + 16 = 28\n",
      "12 + 18 = 30\n",
      "13 + 10 = 23\n",
      "13 + 12 = 25\n",
      "13 + 14 = 27\n",
      "13 + 16 = 29\n",
      "13 + 18 = 31\n",
      "14 + 10 = 24\n",
      "14 + 12 = 26\n",
      "14 + 14 = 28\n",
      "14 + 16 = 30\n",
      "14 + 18 = 32\n",
      "15 + 10 = 25\n",
      "15 + 12 = 27\n",
      "15 + 14 = 29\n",
      "15 + 16 = 31\n",
      "15 + 18 = 33\n",
      "16 + 10 = 26\n",
      "16 + 12 = 28\n",
      "16 + 14 = 30\n",
      "16 + 16 = 32\n",
      "16 + 18 = 34\n",
      "17 + 10 = 27\n",
      "17 + 12 = 29\n",
      "17 + 14 = 31\n",
      "17 + 16 = 33\n",
      "17 + 18 = 35\n",
      "18 + 10 = 28\n",
      "18 + 12 = 30\n",
      "18 + 14 = 32\n",
      "18 + 16 = 34\n",
      "18 + 18 = 36\n",
      "19 + 10 = 29\n",
      "19 + 12 = 31\n",
      "19 + 14 = 33\n",
      "19 + 16 = 35\n",
      "19 + 18 = 37\n"
     ]
    }
   ],
   "source": [
    "for i in range (10,20):\n",
    "   for j in range (10, 20 , 2):\n",
    "      print('{} + {} = {}' . format(i, j, i + j))"
   ]
  },
  {
   "cell_type": "code",
   "execution_count": null,
   "metadata": {},
   "outputs": [],
   "source": []
  }
 ],
 "metadata": {
  "kernelspec": {
   "display_name": "Python 3.10.2 64-bit",
   "language": "python",
   "name": "python3"
  },
  "language_info": {
   "codemirror_mode": {
    "name": "ipython",
    "version": 3
   },
   "file_extension": ".py",
   "mimetype": "text/x-python",
   "name": "python",
   "nbconvert_exporter": "python",
   "pygments_lexer": "ipython3",
   "version": "3.10.2"
  },
  "orig_nbformat": 4,
  "vscode": {
   "interpreter": {
    "hash": "369f2c481f4da34e4445cda3fffd2e751bd1c4d706f27375911949ba6bb62e1c"
   }
  }
 },
 "nbformat": 4,
 "nbformat_minor": 2
}
