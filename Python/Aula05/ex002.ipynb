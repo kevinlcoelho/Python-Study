{
 "cells": [
  {
   "cell_type": "code",
   "execution_count": 1,
   "metadata": {},
   "outputs": [],
   "source": [
    "def comida():\n",
    "    print(ovos)"
   ]
  },
  {
   "cell_type": "code",
   "execution_count": 2,
   "metadata": {},
   "outputs": [
    {
     "name": "stdout",
     "output_type": "stream",
     "text": [
      "12\n"
     ]
    }
   ],
   "source": [
    "ovos = 12\n",
    "comida()"
   ]
  },
  {
   "cell_type": "code",
   "execution_count": 9,
   "metadata": {},
   "outputs": [
    {
     "name": "stdout",
     "output_type": "stream",
     "text": [
      "6\n",
      "12\n"
     ]
    }
   ],
   "source": [
    "def comida():\n",
    "    ovos = 12\n",
    "    bacon()\n",
    "    print(ovos)\n",
    "\n",
    "def bacon():\n",
    "    ovos = 6\n",
    "    print(ovos)\n",
    "\n",
    "comida()"
   ]
  },
  {
   "cell_type": "code",
   "execution_count": 10,
   "metadata": {},
   "outputs": [
    {
     "name": "stdout",
     "output_type": "stream",
     "text": [
      "variavel local de bacon\n",
      "variavel local de comida\n",
      "variavel local de bacon\n",
      "variavel global\n"
     ]
    }
   ],
   "source": [
    "def comida():\n",
    "    ovos = 'variavel local de comida'\n",
    "    print(ovos)\n",
    "\n",
    "def bacon():\n",
    "    ovos = 'variavel local de bacon'\n",
    "    print(ovos)\n",
    "    comida()\n",
    "    print(ovos)\n",
    "\n",
    "ovos = 'variavel global'\n",
    "bacon()\n",
    "print(ovos)"
   ]
  },
  {
   "cell_type": "code",
   "execution_count": null,
   "metadata": {},
   "outputs": [],
   "source": [
    "def comida():\n",
    "    global ovos\n",
    "    ovos = 'comida'\n",
    "\n",
    "ovos = 'global'\n",
    "comida()\n",
    "print(ovos)"
   ]
  }
 ],
 "metadata": {
  "kernelspec": {
   "display_name": "Python 3.10.2 64-bit",
   "language": "python",
   "name": "python3"
  },
  "language_info": {
   "codemirror_mode": {
    "name": "ipython",
    "version": 3
   },
   "file_extension": ".py",
   "mimetype": "text/x-python",
   "name": "python",
   "nbconvert_exporter": "python",
   "pygments_lexer": "ipython3",
   "version": "3.10.2"
  },
  "orig_nbformat": 4,
  "vscode": {
   "interpreter": {
    "hash": "369f2c481f4da34e4445cda3fffd2e751bd1c4d706f27375911949ba6bb62e1c"
   }
  }
 },
 "nbformat": 4,
 "nbformat_minor": 2
}
