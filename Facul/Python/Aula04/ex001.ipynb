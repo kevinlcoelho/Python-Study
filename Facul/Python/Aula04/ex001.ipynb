{
 "cells": [
  {
   "cell_type": "code",
   "execution_count": 9,
   "metadata": {},
   "outputs": [
    {
     "name": "stdout",
     "output_type": "stream",
     "text": [
      "1\n",
      "2\n",
      "3\n",
      "4\n",
      "5\n"
     ]
    }
   ],
   "source": [
    "x = 1\n",
    "while (x <= 5):\n",
    "    print(x)\n",
    "x = x + 1"
   ]
  },
  {
   "cell_type": "code",
   "execution_count": 8,
   "metadata": {},
   "outputs": [
    {
     "name": "stdout",
     "output_type": "stream",
     "text": [
      "2\n",
      "4\n",
      "6\n",
      "8\n",
      "10\n",
      "12\n",
      "14\n"
     ]
    }
   ],
   "source": [
    "inicio = int(input('Digite o numero pra começar a contagem:'))\n",
    "final = int(input('Digite onde deve parar a contagem:'))\n",
    "x = inicio\n",
    "while (x <= final):\n",
    "    if (x % 2 == 0):\n",
    "        print(x)\n",
    "    x = x + 1"
   ]
  },
  {
   "cell_type": "code",
   "execution_count": 1,
   "metadata": {},
   "outputs": [
    {
     "ename": "ValueError",
     "evalue": "could not convert string to float: ''",
     "output_type": "error",
     "traceback": [
      "\u001b[1;31m---------------------------------------------------------------------------\u001b[0m",
      "\u001b[1;31mValueError\u001b[0m                                Traceback (most recent call last)",
      "\u001b[1;32me:\\CODE\\Facul\\Python\\Aula 4\\ex001.ipynb Célula: 3\u001b[0m in \u001b[0;36m<cell line: 3>\u001b[1;34m()\u001b[0m\n\u001b[0;32m      <a href='vscode-notebook-cell:/e%3A/CODE/Facul/Python/Aula%204/ex001.ipynb#ch0000002?line=1'>2</a>\u001b[0m cont \u001b[39m=\u001b[39m \u001b[39m1\u001b[39m\n\u001b[0;32m      <a href='vscode-notebook-cell:/e%3A/CODE/Facul/Python/Aula%204/ex001.ipynb#ch0000002?line=2'>3</a>\u001b[0m \u001b[39mwhile\u001b[39;00m (cont \u001b[39m<\u001b[39m\u001b[39m=\u001b[39m \u001b[39m5\u001b[39m):\n\u001b[1;32m----> <a href='vscode-notebook-cell:/e%3A/CODE/Facul/Python/Aula%204/ex001.ipynb#ch0000002?line=3'>4</a>\u001b[0m     x \u001b[39m=\u001b[39m \u001b[39mfloat\u001b[39;49m(\u001b[39minput\u001b[39;49m(\u001b[39m'\u001b[39;49m\u001b[39mDigite a \u001b[39;49m\u001b[39m{}\u001b[39;49;00m\u001b[39mª nota:\u001b[39;49m\u001b[39m'\u001b[39;49m \u001b[39m.\u001b[39;49mformat(cont)))\n\u001b[0;32m      <a href='vscode-notebook-cell:/e%3A/CODE/Facul/Python/Aula%204/ex001.ipynb#ch0000002?line=4'>5</a>\u001b[0m     soma \u001b[39m=\u001b[39m soma \u001b[39m+\u001b[39m x\n\u001b[0;32m      <a href='vscode-notebook-cell:/e%3A/CODE/Facul/Python/Aula%204/ex001.ipynb#ch0000002?line=5'>6</a>\u001b[0m     soma \u001b[39m=\u001b[39m cont \u001b[39m+\u001b[39m \u001b[39m1\u001b[39m\n",
      "\u001b[1;31mValueError\u001b[0m: could not convert string to float: ''"
     ]
    }
   ],
   "source": [
    "soma = 0\n",
    "cont = 1\n",
    "while (cont <= 5):\n",
    "    x = float(input('Digite a {}ª nota:' .format(cont)))\n",
    "    soma = soma + x\n",
    "    soma = cont + 1\n",
    "media = soma / 5\n",
    "print('Media final: {}' .format(media))"
   ]
  }
 ],
 "metadata": {
  "kernelspec": {
   "display_name": "Python 3.10.2 64-bit",
   "language": "python",
   "name": "python3"
  },
  "language_info": {
   "codemirror_mode": {
    "name": "ipython",
    "version": 3
   },
   "file_extension": ".py",
   "mimetype": "text/x-python",
   "name": "python",
   "nbconvert_exporter": "python",
   "pygments_lexer": "ipython3",
   "version": "3.10.2"
  },
  "orig_nbformat": 4,
  "vscode": {
   "interpreter": {
    "hash": "369f2c481f4da34e4445cda3fffd2e751bd1c4d706f27375911949ba6bb62e1c"
   }
  }
 },
 "nbformat": 4,
 "nbformat_minor": 2
}
