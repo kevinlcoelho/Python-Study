{
 "cells": [
  {
   "cell_type": "code",
   "execution_count": 3,
   "metadata": {},
   "outputs": [
    {
     "name": "stdout",
     "output_type": "stream",
     "text": [
      "Você digitou 1, encerrando...\n"
     ]
    }
   ],
   "source": [
    "x = int(input('Digite um valor maior que zero: '))\n",
    "while (x <= 0):\n",
    "    x = int(input('Digite um valor maior que zero: '))\n",
    "print('Você digitou {}, encerrando...' .format(x))"
   ]
  },
  {
   "cell_type": "code",
   "execution_count": 7,
   "metadata": {},
   "outputs": [
    {
     "name": "stdout",
     "output_type": "stream",
     "text": [
      "Digite uma msg para repetir\n",
      "Digite sair para encerrar\n",
      "kkk\n",
      "kkk\n",
      "kkk\n",
      "Programa encerrado\n"
     ]
    }
   ],
   "source": [
    "print('Digite uma msg para repetir')\n",
    "print(\"Digite sair para encerrar\")\n",
    "while True:\n",
    "    texto = input('')\n",
    "    if texto == 'sair':\n",
    "        break\n",
    "    else:\n",
    "        print(texto)\n",
    "print('Programa encerrado')"
   ]
  },
  {
   "cell_type": "code",
   "execution_count": 12,
   "metadata": {},
   "outputs": [
    {
     "name": "stdout",
     "output_type": "stream",
     "text": [
      "Login realizado com sucesso!\n"
     ]
    }
   ],
   "source": [
    "while True:\n",
    "    login = input(\"Digite seu nome de usuário:\")\n",
    "    if (login != 'kevinfoda'):\n",
    "        print('Nome de usúario ou senha incorreto')\n",
    "        continue\n",
    "    senha = input('Digite sua senha:')\n",
    "    if (senha == 'KevinhoFodinha'):\n",
    "        break\n",
    "print('Login realizado com sucesso!')\n"
   ]
  },
  {
   "cell_type": "code",
   "execution_count": 19,
   "metadata": {},
   "outputs": [
    {
     "name": "stdout",
     "output_type": "stream",
     "text": [
      "Você digitou uma valor diferente de zero\n"
     ]
    }
   ],
   "source": [
    "nome = ''\n",
    "while not nome:\n",
    "    nome = input('Digite seu nome:')\n",
    "valor = int(input('Digite um numero inteiro:' ))\n",
    "if valor:\n",
    "    print('Você digitou uma valor diferente de zero')\n",
    "else:\n",
    "    print('Você digitou zero')"
   ]
  }
 ],
 "metadata": {
  "kernelspec": {
   "display_name": "Python 3.10.2 64-bit",
   "language": "python",
   "name": "python3"
  },
  "language_info": {
   "codemirror_mode": {
    "name": "ipython",
    "version": 3
   },
   "file_extension": ".py",
   "mimetype": "text/x-python",
   "name": "python",
   "nbconvert_exporter": "python",
   "pygments_lexer": "ipython3",
   "version": "3.10.2"
  },
  "orig_nbformat": 4,
  "vscode": {
   "interpreter": {
    "hash": "369f2c481f4da34e4445cda3fffd2e751bd1c4d706f27375911949ba6bb62e1c"
   }
  }
 },
 "nbformat": 4,
 "nbformat_minor": 2
}
