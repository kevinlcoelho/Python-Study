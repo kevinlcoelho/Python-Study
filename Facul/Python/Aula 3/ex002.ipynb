{
 "cells": [
  {
   "cell_type": "code",
   "execution_count": 14,
   "metadata": {},
   "outputs": [
    {
     "name": "stdout",
     "output_type": "stream",
     "text": [
      "Escolha a fruta que deseja comprar:\n",
      "1 - Maçã\n",
      "2 - Laranja\n",
      "3 - Banana\n",
      "Produto indisponivel\n"
     ]
    }
   ],
   "source": [
    "print('Escolha a fruta que deseja comprar:')\n",
    "print('1 - Maçã')\n",
    "print('2 - Laranja')\n",
    "print('3 - Banana')\n",
    "maca = 2.3\n",
    "laranja = 3.6\n",
    "banana = 1.85\n",
    "fruta = int(input('Qual fruta gostaria? Digite o número correspondente:'))\n",
    "unidade = int(input('Digite a quantidade que irá comprar:'))\n",
    "if fruta == 1:\n",
    "    pagar = unidade*maca\n",
    "    print('Você escolheu maçã e vai levar um total de {} unidades, cada uma no valor de R${}, o total a pagar será no valor de R${}' .format(unidade,maca,pagar))\n",
    "else:\n",
    "    if fruta == 2:\n",
    "        pagar = unidade*laranja\n",
    "        print('Você escolheu laranja e vai levar um total de {} unidades, cada uma no valor de R${}, o total a pagar será no valor de R${}' .format(unidade,laranja,pagar))\n",
    "    else:\n",
    "        if fruta == 3:\n",
    "            pagar = unidade*banana\n",
    "            print('Você escolheu banana e vai levar um total de {} unidades, cada uma no valor de R${}, o total a pagar será no valor de R${}' .format(unidade,banana,pagar))\n",
    "        else:\n",
    "            print('Produto indisponivel')"
   ]
  }
 ],
 "metadata": {
  "kernelspec": {
   "display_name": "Python 3.10.2 64-bit",
   "language": "python",
   "name": "python3"
  },
  "language_info": {
   "codemirror_mode": {
    "name": "ipython",
    "version": 3
   },
   "file_extension": ".py",
   "mimetype": "text/x-python",
   "name": "python",
   "nbconvert_exporter": "python",
   "pygments_lexer": "ipython3",
   "version": "3.10.2"
  },
  "orig_nbformat": 4,
  "vscode": {
   "interpreter": {
    "hash": "369f2c481f4da34e4445cda3fffd2e751bd1c4d706f27375911949ba6bb62e1c"
   }
  }
 },
 "nbformat": 4,
 "nbformat_minor": 2
}
