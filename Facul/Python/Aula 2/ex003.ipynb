{
 "cells": [
  {
   "cell_type": "code",
   "execution_count": 1,
   "metadata": {},
   "outputs": [
    {
     "name": "stdout",
     "output_type": "stream",
     "text": [
      "15\n"
     ]
    }
   ],
   "source": [
    "idade = input('Qual sua idade?')\n",
    "print(idade)"
   ]
  },
  {
   "cell_type": "code",
   "execution_count": 5,
   "metadata": {},
   "outputs": [
    {
     "name": "stdout",
     "output_type": "stream",
     "text": [
      "Olá , tudo bem com você?\n",
      "Obrigado , muito bom saber que tem  anos, essa informação será útil.\n"
     ]
    }
   ],
   "source": [
    "nome = input('Qual seu nome?')\n",
    "print('Olá {}, tudo bem com você?' .format(nome))\n",
    "idade = input('Qual sua idade?')\n",
    "print('Obrigado {}, muito bom saber que tem {} anos, essa informação será útil.' .format(nome,idade))"
   ]
  },
  {
   "cell_type": "code",
   "execution_count": 9,
   "metadata": {},
   "outputs": [
    {
     "name": "stdout",
     "output_type": "stream",
     "text": [
      "Sua idade mais 5 é igual a  28.0\n"
     ]
    }
   ],
   "source": [
    "idade = float(input('Qual sua idade?'))\n",
    "print('Sua idade mais 5 é igual a ', (idade + 5))"
   ]
  },
  {
   "cell_type": "code",
   "execution_count": 12,
   "metadata": {},
   "outputs": [
    {
     "name": "stdout",
     "output_type": "stream",
     "text": [
      "O resultado de 2 + 3 é igual a 5\n"
     ]
    }
   ],
   "source": [
    "a = int(input('Escreva um número:'))\n",
    "b = int(input('Escreva outro número:'))\n",
    "res = ('O resultado de {} + {} é igual a {}' .format(a,b,a+b))\n",
    "print(res)"
   ]
  }
 ],
 "metadata": {
  "kernelspec": {
   "display_name": "Python 3.10.2 64-bit",
   "language": "python",
   "name": "python3"
  },
  "language_info": {
   "codemirror_mode": {
    "name": "ipython",
    "version": 3
   },
   "file_extension": ".py",
   "mimetype": "text/x-python",
   "name": "python",
   "nbconvert_exporter": "python",
   "pygments_lexer": "ipython3",
   "version": "3.10.2"
  },
  "orig_nbformat": 4,
  "vscode": {
   "interpreter": {
    "hash": "369f2c481f4da34e4445cda3fffd2e751bd1c4d706f27375911949ba6bb62e1c"
   }
  }
 },
 "nbformat": 4,
 "nbformat_minor": 2
}
